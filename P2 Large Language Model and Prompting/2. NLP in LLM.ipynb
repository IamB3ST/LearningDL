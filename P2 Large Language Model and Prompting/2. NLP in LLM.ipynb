{
 "cells": [
  {
   "cell_type": "markdown",
   "id": "0f10546f-dc21-437d-8534-7afaf11d5e6b",
   "metadata": {},
   "source": [
    "#### Byte pair encoding (BPE)"
   ]
  },
  {
   "cell_type": "code",
   "execution_count": 1,
   "id": "d69ae442-4a87-4304-83b5-e82263635e3c",
   "metadata": {},
   "outputs": [
    {
     "name": "stdout",
     "output_type": "stream",
     "text": [
      "[15496, 11, 466, 345, 588, 8887, 30, 220, 50256, 554, 262, 4252, 18250, 8812, 2114, 286, 617]\n"
     ]
    }
   ],
   "source": [
    "import tiktoken\n",
    "tokenizer = tiktoken.get_encoding(\"gpt2\")\n",
    "text = \"Hello, do you like tea? <|endoftext|> In the sunlit terraces of some\"\n",
    "integers = tokenizer.encode(text, allowed_special={\"<|endoftext|>\"})\n",
    "print(integers)"
   ]
  },
  {
   "cell_type": "code",
   "execution_count": 2,
   "id": "d236f25f-88a0-413d-bcdb-01a368dafb85",
   "metadata": {},
   "outputs": [
    {
     "name": "stdout",
     "output_type": "stream",
     "text": [
      "Hello, do you like tea? <|endoftext|> In the sunlit terraces of some\n"
     ]
    }
   ],
   "source": [
    "strings = tokenizer.decode(integers)\n",
    "print(strings)"
   ]
  },
  {
   "cell_type": "markdown",
   "id": "9c47f940-7d98-4af8-8a02-68d564e27ee3",
   "metadata": {},
   "source": [
    "#### BPE for Unknown word"
   ]
  },
  {
   "cell_type": "code",
   "execution_count": 3,
   "id": "d84e67e6-c584-4cdb-aaf5-fd3899e57d6a",
   "metadata": {},
   "outputs": [
    {
     "name": "stdout",
     "output_type": "stream",
     "text": [
      "[17250, 11, 314, 1101, 371, 9019, 18027, 13, 220, 50256, 37628, 3099, 322, 13704, 86, 333, 9019, 7, 354, 3762, 737]\n"
     ]
    }
   ],
   "source": [
    "text = \"Hi, I'm Rui Wu. <|endoftext|> nihaowoshiwurui(chinese).\"\n",
    "integers = tokenizer.encode(text, allowed_special={\"<|endoftext|>\"})\n",
    "print(integers)"
   ]
  },
  {
   "cell_type": "code",
   "execution_count": 4,
   "id": "9cd70f07-3ad4-4056-a50d-7abf5c597718",
   "metadata": {},
   "outputs": [
    {
     "name": "stdout",
     "output_type": "stream",
     "text": [
      "Hi, I'm Rui Wu. <|endoftext|> nihaowoshiwurui(chinese).\n"
     ]
    }
   ],
   "source": [
    "strings = tokenizer.decode(integers)\n",
    "print(strings)"
   ]
  },
  {
   "cell_type": "markdown",
   "id": "a62a6613-411b-4aef-bb90-bac63adae7f2",
   "metadata": {},
   "source": [
    "#### Using sliding windows to sample data"
   ]
  },
  {
   "cell_type": "code",
   "execution_count": 5,
   "id": "ffa65a15-ef11-46dc-b3b0-8030db8e2678",
   "metadata": {},
   "outputs": [
    {
     "name": "stdout",
     "output_type": "stream",
     "text": [
      "20479\n"
     ]
    }
   ],
   "source": [
    "import re\n",
    "import requests\n",
    "url = \"https://raw.githubusercontent.com/rasbt/LLMs-from-scratch/main/ch02/01_main-chapter-code/the-verdict.txt\"\n",
    "response = requests.get(url)\n",
    "raw_text = response.text\n",
    "enc_text = tokenizer.encode(raw_text)\n",
    "print(len(raw_text))"
   ]
  },
  {
   "cell_type": "code",
   "execution_count": 6,
   "id": "0b5dc47c-7212-43c1-a86f-7190700e9d56",
   "metadata": {},
   "outputs": [
    {
     "name": "stdout",
     "output_type": "stream",
     "text": [
      "   [290, 4920, 2241, 287, 257, 4489, 64, 319, 262, 34686]\n",
      "x: [290, 4920, 2241, 287]\n",
      "y:      [4920, 2241, 287, 257]\n"
     ]
    }
   ],
   "source": [
    "enc_sample = enc_text[50:]\n",
    "print(\"  \",enc_sample[:10])\n",
    "context_size = 4 #A\n",
    "x = enc_sample[:context_size]\n",
    "y = enc_sample[1:context_size+1]\n",
    "print(f\"x: {x}\")\n",
    "print(f\"y:      {y}\")"
   ]
  },
  {
   "cell_type": "code",
   "execution_count": 7,
   "id": "6b3e29ba-546c-4218-b551-26b748e9146d",
   "metadata": {},
   "outputs": [
    {
     "name": "stdout",
     "output_type": "stream",
     "text": [
      "[290] ----> 4920\n",
      "[290, 4920] ----> 2241\n",
      "[290, 4920, 2241] ----> 287\n",
      "[290, 4920, 2241, 287] ----> 257\n"
     ]
    }
   ],
   "source": [
    "for i in range(1, context_size+1):\n",
    "    context = enc_sample[:i]\n",
    "    desired = enc_sample[i]\n",
    "    print(context, \"---->\", desired)"
   ]
  },
  {
   "cell_type": "code",
   "execution_count": 8,
   "id": "d77a2f23-8cb7-4f0d-9b30-2479945d5677",
   "metadata": {},
   "outputs": [
    {
     "name": "stdout",
     "output_type": "stream",
     "text": [
      " and ---->  established\n",
      " and established ---->  himself\n",
      " and established himself ---->  in\n",
      " and established himself in ---->  a\n"
     ]
    }
   ],
   "source": [
    "for i in range(1, context_size+1):\n",
    "    context = enc_sample[:i]\n",
    "    desired = enc_sample[i]\n",
    "    print(tokenizer.decode(context), \"---->\", tokenizer.decode([desired]))"
   ]
  },
  {
   "cell_type": "markdown",
   "id": "cb32aac3-04df-4366-bc1a-8b126929270d",
   "metadata": {},
   "source": [
    "#### Create a small dataset for LLM"
   ]
  },
  {
   "cell_type": "code",
   "execution_count": 9,
   "id": "3be1cfef-4fe6-41ec-a2cf-37955694810d",
   "metadata": {},
   "outputs": [],
   "source": [
    "import torch\n",
    "from torch.utils.data import Dataset, DataLoader\n",
    "class GPTDatasetV1(Dataset):\n",
    "    def __init__(self, txt, tokenizer, max_length, stride):\n",
    "        self.tokenizer = tokenizer\n",
    "        self.input_ids = []\n",
    "        self.target_ids = []\n",
    "        token_ids = tokenizer.encode(txt) #A\n",
    "        for i in range(0, len(token_ids) - max_length, stride): #B\n",
    "            input_chunk = token_ids[i:i + max_length]\n",
    "            target_chunk = token_ids[i + 1: i + max_length + 1]\n",
    "            self.input_ids.append(torch.tensor(input_chunk))\n",
    "            self.target_ids.append(torch.tensor(target_chunk))\n",
    "\n",
    "    def __len__(self): #C\n",
    "        return len(self.input_ids)\n",
    "    def __getitem__(self, idx): #D\n",
    "        return self.input_ids[idx], self.target_ids[idx]"
   ]
  },
  {
   "cell_type": "markdown",
   "id": "8b56569f-b083-41a8-9170-39426891aba1",
   "metadata": {},
   "source": [
    "#### Implementing an efficient data loader"
   ]
  },
  {
   "cell_type": "code",
   "execution_count": 10,
   "id": "a4360152-429a-4c8c-bd54-4fec4481f8cc",
   "metadata": {},
   "outputs": [
    {
     "name": "stdout",
     "output_type": "stream",
     "text": [
      "[tensor([[  40,  367, 2885, 1464]]), tensor([[ 367, 2885, 1464, 1807]])]\n"
     ]
    }
   ],
   "source": [
    "def create_dataloader_v1(txt, batch_size=4, max_length=256, stride=128, shuffle=True, drop_last=True):\n",
    "    tokenizer = tiktoken.get_encoding(\"gpt2\") #A\n",
    "    dataset = GPTDatasetV1(txt, tokenizer, max_length, stride) #B\n",
    "    dataloader = DataLoader(\n",
    "        dataset, batch_size=batch_size, shuffle=shuffle, drop_last=drop_last) #C\n",
    "    return dataloader\n",
    "\n",
    "dataloader = create_dataloader_v1(raw_text, batch_size=1, max_length=4, stride=1, shuffle=False)\n",
    "data_iter = iter(dataloader) #A\n",
    "first_batch = next(data_iter)\n",
    "print(first_batch)"
   ]
  },
  {
   "cell_type": "markdown",
   "id": "3149a588-041f-46d6-8fb5-db79c04289a1",
   "metadata": {},
   "source": [
    "#### Example for batchsize > 1"
   ]
  },
  {
   "cell_type": "code",
   "execution_count": 11,
   "id": "389c5375-27dd-4c93-afb8-12951738bd86",
   "metadata": {},
   "outputs": [
    {
     "name": "stdout",
     "output_type": "stream",
     "text": [
      "Inputs:\n",
      " tensor([[  198,    38,   271, 10899],\n",
      "        [  319,  3619,   438,   505],\n",
      "        [  351,   663,  4808, 44769],\n",
      "        [  804,   379,   326,  1517],\n",
      "        [ 5986,    30,  2011, 20136],\n",
      "        [  326,   484,   815, 25722],\n",
      "        [   13,   198,   198,     1],\n",
      "        [ 1781,   314,  1422,   470]])\n",
      "\n",
      "Targets:\n",
      " tensor([[   38,   271, 10899,   550],\n",
      "        [ 3619,   438,   505,   286],\n",
      "        [  663,  4808, 44769,  8270],\n",
      "        [  379,   326,  1517,   438],\n",
      "        [   30,  2011, 20136,   373],\n",
      "        [  484,   815, 25722,   683],\n",
      "        [  198,   198,     1,  5779],\n",
      "        [  314,  1422,   470,  1560]])\n"
     ]
    }
   ],
   "source": [
    "dataloader = create_dataloader_v1(raw_text, batch_size=8, max_length=4, stride=4)\n",
    "data_iter = iter(dataloader)\n",
    "inputs, targets = next(data_iter)\n",
    "print(\"Inputs:\\n\", inputs)\n",
    "print(\"\\nTargets:\\n\", targets)"
   ]
  },
  {
   "cell_type": "markdown",
   "id": "896ae09a-a006-4686-a745-3acd0dd5552a",
   "metadata": {},
   "source": [
    "#### Text Embedding"
   ]
  },
  {
   "cell_type": "code",
   "execution_count": 12,
   "id": "f98c0261-4b23-4be8-a0b4-2c434367d73f",
   "metadata": {},
   "outputs": [
    {
     "name": "stdout",
     "output_type": "stream",
     "text": [
      "Parameter containing:\n",
      "tensor([[ 0.3374, -0.1778, -0.1690],\n",
      "        [ 0.9178,  1.5810,  1.3010],\n",
      "        [ 1.2753, -0.2010, -0.1606],\n",
      "        [-0.4015,  0.9666, -1.1481],\n",
      "        [-1.1589,  0.3255, -0.6315],\n",
      "        [-2.8400, -0.7849, -1.4096]], requires_grad=True)\n"
     ]
    }
   ],
   "source": [
    "vocab_size = 6\n",
    "output_dim = 3\n",
    "\n",
    "torch.manual_seed(123)\n",
    "embedding_layer = torch.nn.Embedding(vocab_size, output_dim)\n",
    "print(embedding_layer.weight)"
   ]
  },
  {
   "cell_type": "code",
   "execution_count": 13,
   "id": "11065537-2889-4dd7-9e1d-540fb08b0f19",
   "metadata": {},
   "outputs": [
    {
     "name": "stdout",
     "output_type": "stream",
     "text": [
      "tensor([[ 1.2753, -0.2010, -0.1606],\n",
      "        [-0.4015,  0.9666, -1.1481],\n",
      "        [-2.8400, -0.7849, -1.4096],\n",
      "        [ 0.9178,  1.5810,  1.3010]], grad_fn=<EmbeddingBackward0>)\n"
     ]
    }
   ],
   "source": [
    "input_ids = torch.tensor([2, 3, 5, 1])\n",
    "print(embedding_layer(input_ids))"
   ]
  },
  {
   "cell_type": "code",
   "execution_count": 16,
   "id": "f41d5416-9782-4324-8b51-a7487cd2b3e4",
   "metadata": {},
   "outputs": [
    {
     "name": "stdout",
     "output_type": "stream",
     "text": [
      "Token IDs:\n",
      " tensor([[  284,  1234,  8737,   656],\n",
      "        [  383,  8631,  3872,   373],\n",
      "        [ 3347, 27846,   503,  2048],\n",
      "        [  329,   502,     0,   383],\n",
      "        [ 1310,  1165,   881, 40642],\n",
      "        [ 2951,   319,   262,  1327],\n",
      "        [  257,  2726,  6227,   284],\n",
      "        [  520,  5493,  6776,   878]])\n",
      "\n",
      "Inputs shape:\n",
      " torch.Size([8, 4])\n"
     ]
    }
   ],
   "source": [
    "output_dim = 256\n",
    "vocab_size = 50257\n",
    "token_embedding_layer = torch.nn.Embedding(vocab_size, output_dim)\n",
    "\n",
    "max_length = 4\n",
    "dataloader = create_dataloader_v1(raw_text, batch_size=8, max_length=max_length)\n",
    "data_iter = iter(dataloader)\n",
    "inputs, targets = next(data_iter)\n",
    "print(\"Token IDs:\\n\", inputs)\n",
    "print(\"\\nInputs shape:\\n\", inputs.shape)"
   ]
  },
  {
   "cell_type": "code",
   "execution_count": 17,
   "id": "19a61f44-2f9a-4e7c-973f-c252fd8dbed0",
   "metadata": {},
   "outputs": [
    {
     "name": "stdout",
     "output_type": "stream",
     "text": [
      "torch.Size([8, 4, 256])\n"
     ]
    }
   ],
   "source": [
    "token_embeddings = token_embedding_layer(inputs)\n",
    "print(token_embeddings.shape)"
   ]
  },
  {
   "cell_type": "markdown",
   "id": "593a6437-ffdf-4f5c-a773-7927d4d5071c",
   "metadata": {},
   "source": [
    "#### Position Embedding"
   ]
  },
  {
   "cell_type": "code",
   "execution_count": 19,
   "id": "3e815903-cc9b-4451-8ae7-f6b4948ba28d",
   "metadata": {},
   "outputs": [
    {
     "name": "stdout",
     "output_type": "stream",
     "text": [
      "torch.Size([4, 256])\n"
     ]
    }
   ],
   "source": [
    "context_length = max_length\n",
    "pos_embedding_layer = torch.nn.Embedding(context_length, output_dim)\n",
    "pos_embeddings = pos_embedding_layer(torch.arange(context_length))\n",
    "print(pos_embeddings.shape)"
   ]
  },
  {
   "cell_type": "markdown",
   "id": "cad81a7a-5bdc-40b7-a1f6-555eb1f0f05d",
   "metadata": {},
   "source": [
    "#### Input Embedding"
   ]
  },
  {
   "cell_type": "code",
   "execution_count": 20,
   "id": "d5c1f478-bfaa-40fd-ab21-483f071a43f9",
   "metadata": {},
   "outputs": [
    {
     "name": "stdout",
     "output_type": "stream",
     "text": [
      "torch.Size([8, 4, 256])\n"
     ]
    }
   ],
   "source": [
    "input_embeddings = token_embeddings + pos_embeddings\n",
    "print(input_embeddings.shape)"
   ]
  }
 ],
 "metadata": {
  "kernelspec": {
   "display_name": "LLM",
   "language": "python",
   "name": "ucb188"
  },
  "language_info": {
   "codemirror_mode": {
    "name": "ipython",
    "version": 3
   },
   "file_extension": ".py",
   "mimetype": "text/x-python",
   "name": "python",
   "nbconvert_exporter": "python",
   "pygments_lexer": "ipython3",
   "version": "3.9.0"
  }
 },
 "nbformat": 4,
 "nbformat_minor": 5
}
